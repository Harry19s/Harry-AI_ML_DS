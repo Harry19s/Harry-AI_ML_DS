{
  "cells": [
    {
      "cell_type": "code",
      "execution_count": null,
      "metadata": {
        "colab": {
          "base_uri": "https://localhost:8080/"
        },
        "id": "A41o3IDQbHMQ",
        "outputId": "b7a7ba34-00f7-45e6-8af1-b04504850b65"
      },
      "outputs": [],
      "source": [
        "import numpy as np\n",
        "import pandas as pd\n",
        "import matplotlib.pyplot as plt\n",
        "import seaborn as sns\n",
        "%matplotlib inline\n",
        "import warnings\n",
        "warnings.filterwarnings('ignore')\n",
        "# !pip install mlrose\n",
        "# !pip install scikit-pyplot\n",
        "import six\n",
        "import sys\n",
        "sys.modules['sklearn.externals.six']=six\n",
        "import mlrose\n",
        "from imblearn.over_sampling import SMOTE\n",
        "from yellowbrick.classifier.rocauc import roc_auc\n",
        "from sklearn.metrics import accuracy_score,classification_report,confusion_matrix"
      ]
    },
    {
      "cell_type": "code",
      "execution_count": null,
      "metadata": {
        "id": "o12F3IqJbc7I"
      },
      "outputs": [],
      "source": [
        "data=pd.read_csv('Census Income Project.csv')"
      ]
    },
    {
      "cell_type": "code",
      "execution_count": null,
      "metadata": {
        "colab": {
          "base_uri": "https://localhost:8080/",
          "height": 562
        },
        "id": "O-oL9FX3bq9F",
        "outputId": "8b04b4f1-e4b2-4073-a881-413e8f8c4537"
      },
      "outputs": [],
      "source": [
        "data"
      ]
    },
    {
      "cell_type": "markdown",
      "metadata": {
        "id": "Xu0fEwpdeyCp"
      },
      "source": [
        "**Checking null values**"
      ]
    },
    {
      "cell_type": "code",
      "execution_count": null,
      "metadata": {
        "colab": {
          "base_uri": "https://localhost:8080/"
        },
        "id": "5Acnw7jfbrsy",
        "outputId": "6317f533-3cfa-4119-c159-823ca0d09cf1"
      },
      "outputs": [],
      "source": [
        "data.isna().sum()"
      ]
    },
    {
      "cell_type": "markdown",
      "metadata": {
        "id": "pI46jtZSe3AO"
      },
      "source": [
        "*No null values are there*"
      ]
    },
    {
      "cell_type": "code",
      "execution_count": null,
      "metadata": {
        "colab": {
          "base_uri": "https://localhost:8080/",
          "height": 300
        },
        "id": "7jX8ogKkcATP",
        "outputId": "d5d0daa3-bc7c-451d-c605-053feda454af"
      },
      "outputs": [],
      "source": [
        "data.describe()"
      ]
    },
    {
      "cell_type": "code",
      "execution_count": null,
      "metadata": {
        "colab": {
          "base_uri": "https://localhost:8080/"
        },
        "id": "xIVJFw8kcC1a",
        "outputId": "bb1c7a27-393f-48fc-fe11-2ef5f59a3232"
      },
      "outputs": [],
      "source": [
        "data.info()"
      ]
    },
    {
      "cell_type": "code",
      "execution_count": null,
      "metadata": {
        "colab": {
          "base_uri": "https://localhost:8080/",
          "height": 293
        },
        "id": "a0rdk3J4cEJF",
        "outputId": "ab953d39-0f45-4788-a20c-a8ff4cdaa7af"
      },
      "outputs": [],
      "source": [
        "data.head()"
      ]
    },
    {
      "cell_type": "code",
      "execution_count": null,
      "metadata": {
        "colab": {
          "base_uri": "https://localhost:8080/"
        },
        "id": "rjJ7ONYldk79",
        "outputId": "b1cbc316-80c7-4a09-a2ea-74fd30c02c00"
      },
      "outputs": [],
      "source": [
        "{column:len(data[column].unique()) for column in data.select_dtypes('object').columns}"
      ]
    },
    {
      "cell_type": "markdown",
      "metadata": {
        "id": "yxLCaZGYfCx5"
      },
      "source": [
        "**From above i can see every object column and how many unique value they have if any column was having all unique value i might be droped that column like id but here the maximun unique value that i can see is  'Native_country': 42**"
      ]
    },
    {
      "cell_type": "code",
      "execution_count": null,
      "metadata": {
        "colab": {
          "base_uri": "https://localhost:8080/",
          "height": 424
        },
        "id": "wVtAYZPYfyq2",
        "outputId": "6c3f6810-bfc7-45ba-ca02-a357060fc312"
      },
      "outputs": [],
      "source": [
        "data.select_dtypes('object')"
      ]
    },
    {
      "cell_type": "code",
      "execution_count": null,
      "metadata": {},
      "outputs": [],
      "source": [
        "data.select_dtypes('object').columns"
      ]
    },
    {
      "cell_type": "code",
      "execution_count": null,
      "metadata": {
        "id": "_wduyHb_h3-1"
      },
      "outputs": [],
      "source": [
        "col=['workclass', 'education', 'marital.status', 'occupation','relationship', 'race', 'sex', 'native.country', 'income']"
      ]
    },
    {
      "cell_type": "code",
      "execution_count": null,
      "metadata": {
        "colab": {
          "base_uri": "https://localhost:8080/",
          "height": 1000
        },
        "id": "cTvli-6PiS7o",
        "outputId": "8484db27-0f17-4509-ff04-84ca09f27aed"
      },
      "outputs": [],
      "source": [
        "plt.figure(figsize=(18,30))\n",
        "for i in range(len(col)):\n",
        "  plt.subplot(5,2,i+1)\n",
        "  sns.countplot(data[col[i]])\n",
        "  plt.title(f\"Countplot of {col[i]}\",fontsize=20)\n",
        "  plt.xticks(rotation=90,fontsize=13)\n",
        "  plt.tight_layout()"
      ]
    },
    {
      "cell_type": "markdown",
      "metadata": {},
      "source": [
        "#Observation\n",
        "1-From workclass Private has the highest count and other \n",
        " \n",
        " Private             22696\n",
        " \n",
        " Self-emp-not-inc     2541\n",
        " \n",
        " Local-gov            2093\n",
        " \n",
        " ?                    1836\n",
        " \n",
        " State-gov            1297\n",
        " \n",
        " Self-emp-inc         1116\n",
        " \n",
        " Federal-gov           960\n",
        " \n",
        " Without-pay            14\n",
        " \n",
        " Never-worked            7\n",
        "\n",
        "2-From education the count of every class is\n",
        " \n",
        " HS-grad         10501\n",
        " \n",
        " Some-college     7291\n",
        " \n",
        " Bachelors        5354\n",
        " \n",
        " Masters          1723\n",
        " \n",
        " Assoc-voc        1382\n",
        " \n",
        " 11th             1175\n",
        " \n",
        " Assoc-acdm       1067\n",
        " \n",
        " 10th              933\n",
        " \n",
        " 7th-8th           646\n",
        " \n",
        " Prof-school       576\n",
        " \n",
        " 9th               514\n",
        " \n",
        " 12th              433\n",
        " \n",
        " Doctorate         413\n",
        " \n",
        " 5th-6th           333\n",
        " \n",
        " 1st-4th           168\n",
        " \n",
        " Preschool          51\n",
        "\n",
        "3-From marital_status i can say\n",
        " \n",
        " Married-civ-spouse       14976\n",
        " \n",
        " Never-married            10682\n",
        " \n",
        " Divorced                  4443\n",
        " \n",
        " Separated                 1025\n",
        " \n",
        " Widowed                    993\n",
        " \n",
        " Married-spouse-absent      418\n",
        " \n",
        " Married-AF-spouse           23\n",
        "\n",
        "4-from occupation i can say\n",
        " \n",
        " Prof-specialty       4140\n",
        " \n",
        " Craft-repair         4099\n",
        " \n",
        " Exec-managerial      4066\n",
        " \n",
        " Adm-clerical         3769\n",
        " \n",
        " Sales                3650\n",
        " \n",
        " Other-service        3295\n",
        " \n",
        " Machine-op-inspct    2002\n",
        " \n",
        " ?                    1843\n",
        " \n",
        " Transport-moving     1597\n",
        " \n",
        " Handlers-cleaners    1370\n",
        " \n",
        " Farming-fishing       994\n",
        " \n",
        " Tech-support          928\n",
        " \n",
        " Protective-serv       649\n",
        " \n",
        " Priv-house-serv       149\n",
        " \n",
        " Armed-Forces            9\n",
        "\n",
        "5- from relationship counplot i can say it has\n",
        " \n",
        " Husband           13193\n",
        " \n",
        " Not-in-family      8304\n",
        " \n",
        " Own-child          5068\n",
        " \n",
        " Unmarried          3446\n",
        " \n",
        " Wife               1568\n",
        " \n",
        " Other-relative      981\n",
        "\n",
        "6-from race i can say it has \n",
        "\n",
        " White                 27815\n",
        " \n",
        " Black                  3124\n",
        " \n",
        " Asian-Pac-Islander     1039\n",
        " \n",
        " Amer-Indian-Eskimo      311\n",
        " \n",
        " Other                   271\n",
        "\n",
        " 7-From countplot of native_country i can say only US has the high and good count other are just have few count only\n",
        "\n",
        "8-From sex i can say\n",
        "\n",
        " Male      21789\n",
        " \n",
        " Female    10771\n",
        "\n",
        " male are more\n",
        "\n",
        "9-From income i can say\n",
        "\n",
        " <=50K    24719\n",
        " \n",
        ">50K      7841\n",
        "\n",
        " more people are there who have income less then 50k"
      ]
    },
    {
      "cell_type": "code",
      "execution_count": null,
      "metadata": {
        "colab": {
          "base_uri": "https://localhost:8080/",
          "height": 424
        },
        "id": "Mh4Gmu9Ejwpf",
        "outputId": "9721c586-2642-4abf-f937-7f7c1defce29"
      },
      "outputs": [],
      "source": [
        "data.select_dtypes(exclude='object').columns"
      ]
    },
    {
      "cell_type": "code",
      "execution_count": null,
      "metadata": {
        "id": "sbYCrYv0owAr"
      },
      "outputs": [],
      "source": [
        "col1=['age', 'fnlwgt', 'education.num', 'capital.gain', 'capital.loss','hours.per.week']"
      ]
    },
    {
      "cell_type": "code",
      "execution_count": null,
      "metadata": {
        "colab": {
          "base_uri": "https://localhost:8080/",
          "height": 856
        },
        "id": "bE1RcPrCtUkQ",
        "outputId": "8795ec3f-dd71-4a12-fd3a-fb76e909f81c"
      },
      "outputs": [],
      "source": [
        "plt.figure(figsize=(25,20))\n",
        "for i in range(len(col1)):\n",
        "  plt.subplot(3,2,i+1)\n",
        "  sns.distplot(data[col1[i]])\n",
        "  plt.title(f\"Distribution of {col1[i]}\")\n",
        "  plt.tight_layout()"
      ]
    },
    {
      "cell_type": "markdown",
      "metadata": {
        "id": "ue-yn5GGuCwc"
      },
      "source": [
        "#Observation\n",
        "1-only the value of fnlwgt is continuous so that distribution is right skewed so in right skewed we know mean>median>mode \n",
        "\n",
        "2-for other columns i can say they are discrete "
      ]
    },
    {
      "cell_type": "code",
      "execution_count": null,
      "metadata": {
        "colab": {
          "base_uri": "https://localhost:8080/",
          "height": 856
        },
        "id": "bE1RcPrCtUkQ",
        "outputId": "8795ec3f-dd71-4a12-fd3a-fb76e909f81c"
      },
      "outputs": [],
      "source": [
        "plt.figure(figsize=(25,10))\n",
        "for i in range(len(col1)):\n",
        "  plt.subplot(2,3,i+1)\n",
        "  sns.boxenplot(data[col1[i]])\n",
        "  plt.title(f\"Distribution of {col1[i]}\")\n",
        "  plt.tight_layout()"
      ]
    },
    {
      "cell_type": "code",
      "execution_count": null,
      "metadata": {},
      "outputs": [],
      "source": [
        "data.columns"
      ]
    },
    {
      "cell_type": "code",
      "execution_count": null,
      "metadata": {
        "id": "yUDH8y_5tvK2"
      },
      "outputs": [],
      "source": [
        "# except income because we want to compare all the columns with income.\n",
        "\n",
        "col2=['age', 'workclass', 'fnlwgt', 'education', 'education.num',\n",
        "       'marital.status', 'occupation', 'relationship', 'race', 'sex',\n",
        "       'capital.gain', 'capital.loss', 'hours.per.week', 'native.country']"
      ]
    },
    {
      "cell_type": "code",
      "execution_count": null,
      "metadata": {
        "colab": {
          "base_uri": "https://localhost:8080/",
          "height": 0
        },
        "id": "yAKa0kHyUOlD",
        "outputId": "32f65cbe-5cf7-4af9-96f5-3458713ff337"
      },
      "outputs": [],
      "source": [
        "plt.figure(figsize=(25,30))\n",
        "for i in range(len(col2)):\n",
        "  plt.subplot(5,3,i+1)\n",
        "  sns.stripplot(x=data['income'],y=data[col2[i]],linewidth=0.5,palette='Set2')\n",
        "  plt.title(f\"Income VS {col2[i]}\",fontsize=20)\n",
        "  plt.xticks(rotation=90,fontsize=16)  \n",
        "  plt.yticks(fontsize=16)\n",
        "  plt.tight_layout()"
      ]
    },
    {
      "cell_type": "markdown",
      "metadata": {
        "id": "7k0Px2heWL7x"
      },
      "source": [
        "#Obseravtion\n",
        "1-From age i can say from 25-65 people have high chances to get more then 50k\n",
        "\n",
        "2-From workclass i can say except without pay and never worked other workclass have chances to earn more then 50k\n",
        "\n",
        "3-From education i can say as the education increase there are more chances to earn more then 50k same with education_num\n",
        "\n",
        "4-From marital status i can say except married af spouse all have chances to earn more then 50k\n",
        "\n",
        "5-From occupation i can say as the occupation increase there are more chances to earn more then 50k\n",
        "\n",
        "6-from relationship i can say there is no such effect of relationship on income same with SEX\n",
        "\n",
        "7-From capital gain i can say more the capital income more chances to earn more then 50k\n",
        "\n",
        "8-From capital loss i can say less the capital loss more the income\n",
        "\n",
        "9-for last two plot i plot them again to understand them"
      ]
    },
    {
      "cell_type": "code",
      "execution_count": null,
      "metadata": {
        "colab": {
          "base_uri": "https://localhost:8080/",
          "height": 0
        },
        "id": "GqDWcSuaZ11S",
        "outputId": "07d44780-577d-4484-98f4-5f0321550248"
      },
      "outputs": [],
      "source": [
        "plt.figure(figsize=(8,15))\n",
        "sns.stripplot(x='income',y='native.country',data=data,palette='Set2')\n",
        "plt.yticks(fontsize=14)\n",
        "plt.xticks(fontsize=14)"
      ]
    },
    {
      "cell_type": "markdown",
      "metadata": {
        "id": "ros0O9iUbPGx"
      },
      "source": [
        "*the plot shows people belonging to different contries have less chances of earning>50k which is wrong,this is because np.of individuals belonging from other countries other than U.S are very low but it is to be noticed that there are more people in the category <50k than >50k*"
      ]
    },
    {
      "cell_type": "code",
      "execution_count": null,
      "metadata": {
        "colab": {
          "base_uri": "https://localhost:8080/",
          "height": 0
        },
        "id": "PUG0nO--UOfe",
        "outputId": "fff56cd9-23d4-4c0c-deba-975314e2b30d"
      },
      "outputs": [],
      "source": [
        "plt.figure(figsize=(12,8))\n",
        "sns.boxenplot(x='income',y='hours.per.week',data=data)"
      ]
    },
    {
      "cell_type": "markdown",
      "metadata": {
        "id": "DKPaSGoiZKkI"
      },
      "source": [
        "*people earning >50k income work mean hours per week greater than those earning <50k while people from both the categories work from min to max hours per week*"
      ]
    },
    {
      "cell_type": "code",
      "execution_count": null,
      "metadata": {},
      "outputs": [],
      "source": [
        "data.columns"
      ]
    },
    {
      "cell_type": "code",
      "execution_count": null,
      "metadata": {
        "id": "qmhZmd0_cPnn"
      },
      "outputs": [],
      "source": [
        "# Removed age because we are comparing all the coloumns with Age\n",
        "\n",
        "col3 = ['workclass', 'education', 'education.num',\n",
        "        'marital.status', 'occupation', 'relationship', 'race', 'sex',\n",
        "        'capital.gain', 'capital.loss', 'hours.per.week', 'native.country',\n",
        "        'income']"
      ]
    },
    {
      "cell_type": "code",
      "execution_count": null,
      "metadata": {
        "colab": {
          "base_uri": "https://localhost:8080/",
          "height": 0
        },
        "id": "MIOtRPiycLO7",
        "outputId": "5f68f844-6b5a-41ba-95ea-c8a06163fd5b"
      },
      "outputs": [],
      "source": [
        "plt.figure(figsize=(20,60))\n",
        "for i in range(len(col3)):\n",
        "  plt.subplot(8,2,i+1)\n",
        "  sns.stripplot(y=data['age'],x=data[col3[i]],palette='Set2')\n",
        "  plt.title(f\"Age VS {col3[i]}\",fontsize=20)\n",
        "  plt.xticks(rotation=90,fontsize=16)  \n",
        "  plt.yticks(fontsize=16)\n",
        "  plt.tight_layout()"
      ]
    },
    {
      "cell_type": "markdown",
      "metadata": {
        "id": "v4nc5dq-nFV5"
      },
      "source": [
        "#Obseravtion\n",
        "\n",
        "Individuals working in the gov. sector have almost age 70 to 80 with few outliers which must be the retirement age for them.\n",
        "\n",
        "there are no individual who do not work after age of 30. \n",
        "\n",
        "there are no individuals of age >70 belonging to the pre school education category while doctorates and professors appers from late 20's as they have to study for more years to get to that level of education.\n",
        "\n",
        "same is the case with education num, as the education number increase age also in increased. \n",
        "\n",
        "there are no people after the age of 50 in the married to armed forced category with just a few outliers.\n",
        "\n",
        "Windowed category has seen icrease as the age seems to increase there are very few  widow at early age \n",
        "\n",
        "there are more no. of working men at higher age than women\n",
        "\n",
        "there are very few people belonging from other countries with high age"
      ]
    },
    {
      "cell_type": "code",
      "execution_count": null,
      "metadata": {},
      "outputs": [],
      "source": [
        "col4 = ['age', 'workclass', 'education', 'education.num',\n",
        "        'marital.status', 'occupation', 'relationship', 'race', 'sex',\n",
        "        'capital.gain', 'capital.loss', 'native.country',\n",
        "        'income']"
      ]
    },
    {
      "cell_type": "code",
      "execution_count": null,
      "metadata": {
        "colab": {
          "base_uri": "https://localhost:8080/",
          "height": 0
        },
        "id": "lm9dQFobqnBj",
        "outputId": "033983bc-4e15-4a6c-9cc0-d64b7ec29e0f"
      },
      "outputs": [],
      "source": [
        "plt.figure(figsize=(20,150))\n",
        "for i in range(len(col3)):\n",
        "  plt.subplot(16,1,i+1)\n",
        "  sns.violinplot(y=data['hours.per.week'],x=data[col4[i]])\n",
        "  plt.title(f\"Hours Per Week VS {col3[i]}\",fontsize=20)\n",
        "  plt.xticks(rotation=90,fontsize=16)  \n",
        "  plt.yticks(fontsize=16)\n",
        "  plt.tight_layout()"
      ]
    },
    {
      "cell_type": "markdown",
      "metadata": {
        "id": "J6UEPabirQRz"
      },
      "source": [
        "#Obseravtion\n",
        "Govt Employees do not work more than 80 hours a week that also with rare cases\n",
        "\n",
        "it is been seen that people with less education work more no. hours of the week which is logical\n",
        "\n",
        "no armed force person works more than 60 hours a week while farmers and transport movers has working hours mean high than other occupation\n",
        "\n",
        "More no. of individuals who have relationship as own child have high density for working only 20 hours a week.\n",
        "\n",
        "female works for less no. of hours as compare to mens\n",
        "\n",
        "From relation ship people who are husband work more as compare to others and who owned child they work less as compare to other\n",
        "\n",
        "From Race white people work more as comapre to other\n",
        "\n",
        "From education people who are prof. and are doing doctorate work more no.of hours"
      ]
    },
    {
      "cell_type": "code",
      "execution_count": null,
      "metadata": {
        "id": "4asQMq3qthP4"
      },
      "outputs": [],
      "source": [
        "data0=data.groupby(['age',\"income\"]).apply(lambda x:x['hours.per.week'].count()).reset_index(name='Hours')"
      ]
    },
    {
      "cell_type": "code",
      "execution_count": null,
      "metadata": {},
      "outputs": [],
      "source": [
        "data0"
      ]
    },
    {
      "cell_type": "code",
      "execution_count": null,
      "metadata": {
        "colab": {
          "base_uri": "https://localhost:8080/",
          "height": 0
        },
        "id": "DL4ijlx8tyFC",
        "outputId": "74124db9-f22e-4d12-897e-2c2e7cc19955"
      },
      "outputs": [],
      "source": [
        "plt.figure(figsize=(20,10))\n",
        "sns.lineplot(x='age',y='Hours',data=data0,hue='income')\n",
        "plt.title(\"Income VS Work Of Hours\",fontsize=30)"
      ]
    },
    {
      "cell_type": "markdown",
      "metadata": {
        "id": "ugnUERG4wE8o"
      },
      "source": [
        "People who get salary <50k they work more and people who get salary >50k they work less as comapre to other"
      ]
    },
    {
      "cell_type": "code",
      "execution_count": null,
      "metadata": {
        "colab": {
          "base_uri": "https://localhost:8080/",
          "height": 0
        },
        "id": "SAJoH_HwteLi",
        "outputId": "40864e96-739d-4e18-bf90-9f23d749e488"
      },
      "outputs": [],
      "source": [
        "plt.figure(figsize=(12,8))\n",
        "sns.barplot(x='income',y='age',data=data,hue='sex')\n",
        "plt.title(\"Income Vs Age\",fontsize=20)"
      ]
    },
    {
      "cell_type": "markdown",
      "metadata": {
        "id": "AJ3lag1yw-ZT"
      },
      "source": [
        "As the age increase people paid more but male paid more always as compare to females"
      ]
    },
    {
      "cell_type": "code",
      "execution_count": null,
      "metadata": {
        "colab": {
          "base_uri": "https://localhost:8080/",
          "height": 0
        },
        "id": "vnFm9GMjw9i3",
        "outputId": "f65da541-513b-4ebe-cbbf-0c8d787b79a5"
      },
      "outputs": [],
      "source": [
        "plt.figure(figsize=(12,8))\n",
        "sns.factorplot(x='workclass',y='education.num',hue='income',data=data)\n",
        "plt.xticks(rotation=90,fontsize=16) "
      ]
    },
    {
      "cell_type": "markdown",
      "metadata": {
        "id": "p9DbR2huyPO8"
      },
      "source": [
        "#Observation\n",
        "Some people belonging to a particular workclass might have less education and some workclass might require more education level but no matter wheather workcalss,people in the same workclass,if they have higher education level they earn more. it is also to be noticed that there is no person from without pay and never worked workclass category who earn more than 50k which is logical"
      ]
    },
    {
      "cell_type": "code",
      "execution_count": null,
      "metadata": {
        "colab": {
          "base_uri": "https://localhost:8080/",
          "height": 0
        },
        "id": "ejjJ6viSzkcb",
        "outputId": "5b7d5789-bc9a-4db7-a7be-b92b8f6c2a14"
      },
      "outputs": [],
      "source": [
        "sns.factorplot(x='sex',y='education.num',data=data,hue='income')\n",
        "plt.xticks(rotation=90)"
      ]
    },
    {
      "cell_type": "markdown",
      "metadata": {
        "id": "-skLNjlC0BPZ"
      },
      "source": [
        "#Observation\n",
        "Female with higher education level earn equal to men having less education level than them irrespective of any income category they fall"
      ]
    },
    {
      "cell_type": "code",
      "execution_count": null,
      "metadata": {
        "colab": {
          "base_uri": "https://localhost:8080/",
          "height": 0
        },
        "id": "QYfAVxr40T9-",
        "outputId": "64de3a72-dc05-4f34-e8c1-6df9232ccb69"
      },
      "outputs": [],
      "source": [
        "sns.factorplot(x='race',y='education.num',hue='income',data=data)\n",
        "plt.xticks(rotation=90,fontsize=12)"
      ]
    },
    {
      "cell_type": "markdown",
      "metadata": {
        "id": "oEa2p_xd0xRY"
      },
      "source": [
        "#Obseravtion\n",
        "\n",
        "Asian pacific race have comparatively more education than the fellows who earn same as much as they do,belonding to other races.Indians and some other races earns >50k with lowest education level"
      ]
    },
    {
      "cell_type": "code",
      "execution_count": null,
      "metadata": {
        "colab": {
          "base_uri": "https://localhost:8080/",
          "height": 0
        },
        "id": "vDrVQY3n1auj",
        "outputId": "0af4cd91-12cd-4c4d-8674-22b153476c06"
      },
      "outputs": [],
      "source": [
        "sns.factorplot(x='occupation',y='education.num',hue=\"income\",data=data)\n",
        "plt.xticks(rotation=90,fontsize=12)"
      ]
    },
    {
      "cell_type": "markdown",
      "metadata": {
        "id": "1wWcjTC910SD"
      },
      "source": [
        "#Obseravtion\n",
        "\n",
        "People with highest education level belong to armed forces,but people with even education level quite low, who belong to handlers cleaners,transport maoving occupation earn as much as they do. Same is the case with prof speciality.occupation of private house service who earn >50k and <50k have the highest education level different while prof speciality have the minimum difference"
      ]
    },
    {
      "cell_type": "code",
      "execution_count": null,
      "metadata": {
        "colab": {
          "base_uri": "https://localhost:8080/",
          "height": 0
        },
        "id": "wG3qsxja24xF",
        "outputId": "c36b3627-8689-4db4-81e0-63fba41cbc70"
      },
      "outputs": [],
      "source": [
        "plt.figure(figsize=(12,8))\n",
        "sns.scatterplot(x='age',y='hours.per.week',data=data,hue='income',palette='Set2')"
      ]
    },
    {
      "cell_type": "markdown",
      "metadata": {
        "id": "qS1jt0TB3ZZd"
      },
      "source": [
        "#Obseravtion\n",
        "\n",
        "From the plot between age,Hours per week and income,we observe that a person need to be >30 to be earning more than 50k, else needs to work at least 50 hours per week to earn >50k"
      ]
    },
    {
      "cell_type": "code",
      "execution_count": null,
      "metadata": {
        "colab": {
          "base_uri": "https://localhost:8080/",
          "height": 0
        },
        "id": "uazD1jnT8d57",
        "outputId": "438e4939-fd4c-4dc8-b957-03ddbb30c00c"
      },
      "outputs": [],
      "source": [
        "sns.pairplot(data)"
      ]
    },
    {
      "cell_type": "code",
      "execution_count": null,
      "metadata": {
        "colab": {
          "base_uri": "https://localhost:8080/"
        },
        "id": "JJ1pdBX14fkD",
        "outputId": "78c28188-5111-4cc3-ae70-d718263d80cc"
      },
      "outputs": [],
      "source": [
        "{column:len(data[column].unique()) for column in data.select_dtypes('object').columns}"
      ]
    },
    {
      "cell_type": "code",
      "execution_count": null,
      "metadata": {},
      "outputs": [],
      "source": []
    },
    {
      "cell_type": "code",
      "execution_count": null,
      "metadata": {
        "id": "YZjalELB1XQM"
      },
      "outputs": [],
      "source": [
        "from sklearn.preprocessing import LabelEncoder,OrdinalEncoder,StandardScaler,power_transform"
      ]
    },
    {
      "cell_type": "markdown",
      "metadata": {
        "id": "d8nuPGpWvnHa"
      },
      "source": [
        "**I will use ordinalencoder because every column except native_country are in order**"
      ]
    },
    {
      "cell_type": "code",
      "execution_count": null,
      "metadata": {
        "id": "K2YwfP2a4wc2"
      },
      "outputs": [],
      "source": [
        "Oe=OrdinalEncoder()\n",
        "def ordinal_encoder(df,column):\n",
        "  df[column]=Oe.fit_transform(df[column])\n",
        "  return df"
      ]
    },
    {
      "cell_type": "code",
      "execution_count": null,
      "metadata": {
        "id": "PJ3Q2RRJ5Llo"
      },
      "outputs": [],
      "source": [
        "data=ordinal_encoder(data,['workclass', 'education', 'marital.status', 'occupation','relationship', 'race', 'sex', 'income'])"
      ]
    },
    {
      "cell_type": "markdown",
      "metadata": {
        "id": "akDpR8K7v0qd"
      },
      "source": [
        "**Using labelencoder because unique values are only 42 not using onehot because it will increase the dimension size and even for model building more time and computation power will be required**"
      ]
    },
    {
      "cell_type": "code",
      "execution_count": null,
      "metadata": {
        "id": "XHw7_TP25uTa"
      },
      "outputs": [],
      "source": [
        "def preprocessing(df):\n",
        "  df=df.copy()\n",
        "  le=LabelEncoder()\n",
        "  df['native.country']=le.fit_transform(df['native.country'])\n",
        "  X=df.drop('income',axis=1)\n",
        "  y=df['income']\n",
        "  return X,y"
      ]
    },
    {
      "cell_type": "code",
      "execution_count": null,
      "metadata": {
        "id": "PKseWMoE6MwZ"
      },
      "outputs": [],
      "source": [
        "X,y=preprocessing(data)"
      ]
    },
    {
      "cell_type": "code",
      "execution_count": null,
      "metadata": {
        "colab": {
          "base_uri": "https://localhost:8080/",
          "height": 0
        },
        "id": "OoWjCyDj6RFZ",
        "outputId": "91e571ec-cacf-437d-ff25-3775f0a71e1a"
      },
      "outputs": [],
      "source": [
        "X"
      ]
    },
    {
      "cell_type": "code",
      "execution_count": null,
      "metadata": {
        "colab": {
          "base_uri": "https://localhost:8080/",
          "height": 0
        },
        "id": "bKDJsVNG6bg7",
        "outputId": "efd5d59e-9ac1-4d2e-e967-4f477c87e93d"
      },
      "outputs": [],
      "source": [
        "X_corr=X.corr()\n",
        "plt.figure(figsize=(12,8))\n",
        "sns.heatmap(X_corr,annot=True)"
      ]
    },
    {
      "cell_type": "markdown",
      "metadata": {
        "id": "H-zT0ZhawVpd"
      },
      "source": [
        "*Correlation is seems to be good like education having good +ve correlation and relationship and sex having -ve correlation and rest of the columns are also having correlation but at low level*"
      ]
    },
    {
      "cell_type": "code",
      "execution_count": null,
      "metadata": {
        "id": "1q4HbjwPBHSP"
      },
      "outputs": [],
      "source": [
        "x=X"
      ]
    },
    {
      "cell_type": "markdown",
      "metadata": {
        "id": "hKr_bSwawuyB"
      },
      "source": [
        "#Checking Outliers"
      ]
    },
    {
      "cell_type": "code",
      "execution_count": null,
      "metadata": {
        "colab": {
          "base_uri": "https://localhost:8080/",
          "height": 0
        },
        "id": "YXTzLcPXBNr6",
        "outputId": "8b36c831-9d2a-4195-fb7c-9e65114f645f"
      },
      "outputs": [],
      "source": [
        "X_val=X.columns.values\n",
        "plt.figure(figsize=(30,20))\n",
        "for i in range(len(X_val)):\n",
        "  plt.subplot(5,3,i+1)\n",
        "  sns.boxplot(X[X_val[i]])\n",
        "  plt.tight_layout()"
      ]
    },
    {
      "cell_type": "markdown",
      "metadata": {
        "id": "bsmSwtkvwykl"
      },
      "source": [
        "*There are many outliers lets remove them*"
      ]
    },
    {
      "cell_type": "markdown",
      "metadata": {
        "id": "o-YwNmwIw3A-"
      },
      "source": [
        "**Here i will replace the outliers with percentile so we dont loose data**"
      ]
    },
    {
      "cell_type": "code",
      "execution_count": null,
      "metadata": {
        "id": "qCrqaBt4B9eb"
      },
      "outputs": [],
      "source": [
        "for col in X.columns:\n",
        "  percentile=X[col].quantile([0.01,0.98]).values\n",
        "  X[col][X[col]<=percentile[0]]=percentile[0]\n",
        "  X[col][X[col]>=percentile[1]]=percentile[1]"
      ]
    },
    {
      "cell_type": "markdown",
      "metadata": {
        "id": "a2vGghCUw_k7"
      },
      "source": [
        "#After removing Outliers"
      ]
    },
    {
      "cell_type": "code",
      "execution_count": null,
      "metadata": {
        "colab": {
          "base_uri": "https://localhost:8080/",
          "height": 0
        },
        "id": "9y3J4IqtCIj4",
        "outputId": "caae7e2c-1c29-4c30-b3ad-8b3111fbb869"
      },
      "outputs": [],
      "source": [
        "X_val=X.columns.values\n",
        "plt.figure(figsize=(30,20))\n",
        "for i in range(len(X_val)):\n",
        "  plt.subplot(5,3,i+1)\n",
        "  sns.boxplot(X[X_val[i]])\n",
        "  plt.tight_layout()"
      ]
    },
    {
      "cell_type": "markdown",
      "metadata": {
        "id": "dqH9KQ07xCm_"
      },
      "source": [
        "*as we can see many outliers have been removed*"
      ]
    },
    {
      "cell_type": "markdown",
      "metadata": {
        "id": "ogeUD7x3xGsX"
      },
      "source": [
        "#Using Smote to balance the data as we have imbalanced data"
      ]
    },
    {
      "cell_type": "code",
      "execution_count": null,
      "metadata": {
        "id": "fL0xbpB5CEqk"
      },
      "outputs": [],
      "source": [
        "smote=SMOTE(random_state=42)\n",
        "X_res,y_res=smote.fit_resample(X,y)\n",
        "X_new=pd.DataFrame(X_res,columns=x.columns)\n",
        "y_new=pd.DataFrame(y_res,columns=['income'])"
      ]
    },
    {
      "cell_type": "markdown",
      "metadata": {
        "id": "3JPzg8fkxN4D"
      },
      "source": [
        "*Seeing the difference before and after balancing data*"
      ]
    },
    {
      "cell_type": "code",
      "execution_count": null,
      "metadata": {
        "colab": {
          "base_uri": "https://localhost:8080/",
          "height": 0
        },
        "id": "t69reJDXDILz",
        "outputId": "733b2fe1-8e24-4056-9319-087814a2e4c1"
      },
      "outputs": [],
      "source": [
        "plt.figure(figsize=(15,8))\n",
        "plt.subplot(1,2,1)\n",
        "sns.countplot(data['income'])\n",
        "plt.title(\"Imbalanced Data\")\n",
        "plt.subplot(1,2,2)\n",
        "sns.countplot(y_new['income'])\n",
        "plt.title(\"Balanced data\")"
      ]
    },
    {
      "cell_type": "markdown",
      "metadata": {
        "id": "WHRefXGRxUAi"
      },
      "source": [
        "*Shape of data before and after balancing*"
      ]
    },
    {
      "cell_type": "code",
      "execution_count": null,
      "metadata": {
        "colab": {
          "base_uri": "https://localhost:8080/"
        },
        "id": "ZVEL_VLsDVd1",
        "outputId": "f6ba9c5b-403a-4a1e-de35-50eb278448f7"
      },
      "outputs": [],
      "source": [
        "print(data.shape)\n",
        "print(X_new.shape)"
      ]
    },
    {
      "cell_type": "code",
      "execution_count": null,
      "metadata": {
        "id": "7tfEs_X1762A"
      },
      "outputs": [],
      "source": [
        "from sklearn.model_selection import train_test_split,cross_val_score,GridSearchCV,StratifiedKFold"
      ]
    },
    {
      "cell_type": "markdown",
      "metadata": {
        "id": "aW0oMzZcxZI5"
      },
      "source": [
        "#Checking skewness"
      ]
    },
    {
      "cell_type": "code",
      "execution_count": null,
      "metadata": {
        "colab": {
          "base_uri": "https://localhost:8080/"
        },
        "id": "aaNAw2uk_Mjq",
        "outputId": "f2366123-abc1-42aa-bc8e-70ad41c95e45"
      },
      "outputs": [],
      "source": [
        "X.skew()"
      ]
    },
    {
      "cell_type": "markdown",
      "metadata": {
        "id": "5RzDsPaTxb9C"
      },
      "source": [
        "**Removing Skewness**"
      ]
    },
    {
      "cell_type": "code",
      "execution_count": null,
      "metadata": {
        "id": "TJEGEavk_WpT"
      },
      "outputs": [],
      "source": [
        "X_new=power_transform(X_new,method='yeo-johnson')\n",
        "X_new=pd.DataFrame(X_new,columns=x.columns)"
      ]
    },
    {
      "cell_type": "markdown",
      "metadata": {
        "id": "im7a92uCxfTF"
      },
      "source": [
        "#Checking skewness after removal"
      ]
    },
    {
      "cell_type": "code",
      "execution_count": null,
      "metadata": {
        "colab": {
          "base_uri": "https://localhost:8080/"
        },
        "id": "hkApHzL3_Wlo",
        "outputId": "9517488c-cd6a-486f-877e-bb3378dc5e61"
      },
      "outputs": [],
      "source": [
        "X_new.skew()"
      ]
    },
    {
      "cell_type": "markdown",
      "metadata": {
        "id": "D1513BH6xjzh"
      },
      "source": [
        "#Feature Scaling"
      ]
    },
    {
      "cell_type": "code",
      "execution_count": null,
      "metadata": {
        "id": "OzLLNUa7_WjI"
      },
      "outputs": [],
      "source": [
        "scaler=StandardScaler()\n",
        "X_new=scaler.fit_transform(X_new)\n",
        "X_new=pd.DataFrame(X_new,columns=x.columns)"
      ]
    },
    {
      "cell_type": "code",
      "execution_count": null,
      "metadata": {
        "id": "UcIQwynz9Pzk"
      },
      "outputs": [],
      "source": [
        "X_train,X_test,y_train,y_test=train_test_split(X_new,y_new,test_size=0.3,random_state=42)"
      ]
    },
    {
      "cell_type": "code",
      "execution_count": null,
      "metadata": {
        "colab": {
          "base_uri": "https://localhost:8080/"
        },
        "id": "eRiRpNgW-a0Y",
        "outputId": "2f5799d0-8433-4310-a409-ceff853a9184"
      },
      "outputs": [],
      "source": [
        "import sklearn\n",
        "from sklearn.ensemble import ExtraTreesClassifier,RandomForestClassifier\n",
        "from sklearn.tree import DecisionTreeClassifier\n",
        "from sklearn.linear_model import LogisticRegression\n",
        "from xgboost import XGBClassifier\n",
        "from sklearn.neighbors import KNeighborsClassifier\n",
        "# !pip install scikit-plot\n",
        "import scikitplot as skplt\n",
        "from lightgbm import LGBMClassifier"
      ]
    },
    {
      "cell_type": "markdown",
      "metadata": {
        "id": "Cng0cL1Pxm3D"
      },
      "source": [
        "#Training multiple Models"
      ]
    },
    {
      "cell_type": "code",
      "execution_count": null,
      "metadata": {
        "id": "DQHL4RYqEFmq"
      },
      "outputs": [],
      "source": [
        "models={\n",
        "    \"LogisticRegression\":LogisticRegression(),\n",
        "    \"DecisionTreeClassifier\":DecisionTreeClassifier(),\n",
        "    \"ExtraTreesClassifier\":ExtraTreesClassifier(),\n",
        "    \"RandomForestClassifier\":RandomForestClassifier(),\n",
        "    \"XGBClassifier\":XGBClassifier(),\n",
        "    \"LGBMClassifier\":LGBMClassifier()\n",
        "}"
      ]
    },
    {
      "cell_type": "markdown",
      "metadata": {
        "id": "Xngzr2bkxtFb"
      },
      "source": [
        "*I will use stratifiedfold because for classification problem it select the data equally from both classes*"
      ]
    },
    {
      "cell_type": "code",
      "execution_count": null,
      "metadata": {
        "colab": {
          "base_uri": "https://localhost:8080/",
          "height": 1000
        },
        "id": "UzYBQbBBFaDh",
        "outputId": "4eb817da-6f9c-4985-9bd5-83b62cfb8568"
      },
      "outputs": [],
      "source": [
        "skf=StratifiedKFold(n_splits=5,shuffle=True)\n",
        "Score=[]\n",
        "CVS=[]\n",
        "MODEL=[]\n",
        "for name,model in models.items():\n",
        "  print(\"*__________*_____*_____*_____*_____*_____*_____*\",name,\"*_____*_____*_____*_____*_____*_____*__________*\")\n",
        "  MODEL.append(name)\n",
        "  model.fit(X_train,y_train)\n",
        "  y_pred=model.predict(X_test)\n",
        "  print('\\n')\n",
        "  ac=accuracy_score(y_test,y_pred)\n",
        "  Score.append(ac)\n",
        "  print(\"Accuracy_Score\",ac)\n",
        "  print('\\n')\n",
        "  print(\"SCORE\",model.score(X_test,y_test))\n",
        "  print(\"\\n\")\n",
        "  cm=confusion_matrix(y_test,y_pred)\n",
        "  print('Confusion metrics')\n",
        "  print('\\n')\n",
        "  print(cm)\n",
        "  print(\"CLASSIFICATION REPORT\")\n",
        "  report=classification_report(y_test,y_pred)\n",
        "  print('\\n')\n",
        "  print(report)\n",
        "  csv=cross_val_score(model,X_new,y_new,cv=skf).mean()\n",
        "  CVS.append(csv*100)\n",
        "  print(\"Cross_Val_Score\",csv)\n",
        "  print('\\n')\n",
        "  print(\"ROC AUC CURVE\")\n",
        "  plt.figure(figsize=(12,8))\n",
        "  roc_auc(model,X_train,y_train,X_test=X_test,y_test=y_test,classes=['<=50k','>50k'],micro=False,macro=False)\n",
        "  print(\"MODEL LEARNING CURVE\")\n",
        "  skplt.estimators.plot_learning_curve(model,X_new,y_new,cv=skf,scoring='accuracy',text_fontsize='large',title=name)\n",
        "  plt.show()"
      ]
    },
    {
      "cell_type": "markdown",
      "metadata": {
        "id": "5yOxsfPox970"
      },
      "source": [
        "#Lightgbm is giving me good metrixs so i will use it only for hyperparameter"
      ]
    },
    {
      "cell_type": "code",
      "execution_count": null,
      "metadata": {
        "colab": {
          "base_uri": "https://localhost:8080/"
        },
        "id": "D324FPYrGMVj",
        "outputId": "a0dbd0e4-195e-4738-8537-624ce743c518"
      },
      "outputs": [],
      "source": [
        "LGB=LGBMClassifier()\n",
        "LGB.fit(X_train,y_train)"
      ]
    },
    {
      "cell_type": "code",
      "execution_count": null,
      "metadata": {
        "colab": {
          "base_uri": "https://localhost:8080/"
        },
        "id": "smfAUHCNJzke",
        "outputId": "f256d4d8-8c73-4dc8-894d-1caf38f5d75a"
      },
      "outputs": [],
      "source": [
        "y_pred=LGB.predict(X_test)\n",
        "accuracy_score(y_test,y_pred)"
      ]
    },
    {
      "cell_type": "code",
      "execution_count": null,
      "metadata": {
        "colab": {
          "base_uri": "https://localhost:8080/"
        },
        "id": "uQRFSWTGJBIQ",
        "outputId": "77ccb094-e2e0-4ca9-ccec-84afdb8d35c0"
      },
      "outputs": [],
      "source": [
        "LGB.get_params()"
      ]
    },
    {
      "cell_type": "markdown",
      "metadata": {
        "id": "1T29evj8yHYY"
      },
      "source": [
        "#HyperParameter Tuning\n",
        "\n",
        "*I Am using here less parameters because dataset is big and because of less computation power if i will use more params my system will carsh*"
      ]
    },
    {
      "cell_type": "code",
      "execution_count": null,
      "metadata": {
        "id": "YP2Hg3CsJD2K"
      },
      "outputs": [],
      "source": [
        "param={\n",
        "    'boosting_type': ['gbdt','dart','gross','rf'],\n",
        "    'n_estimators':[100,500],\n",
        "    'learning_rate':[0.1,0.01,0.001],\n",
        "    'importance_type': ['split','gain'],\n",
        "}"
      ]
    },
    {
      "cell_type": "code",
      "execution_count": null,
      "metadata": {
        "id": "Gg02Ix7xLSeM"
      },
      "outputs": [],
      "source": [
        "GRID=GridSearchCV(estimator=LGB,scoring='accuracy',param_grid=param,n_jobs=-1,cv=skf)"
      ]
    },
    {
      "cell_type": "code",
      "execution_count": null,
      "metadata": {
        "colab": {
          "base_uri": "https://localhost:8080/"
        },
        "id": "SjW1B3AWLosA",
        "outputId": "2358769f-2441-4745-f5d5-65494cbc5397"
      },
      "outputs": [],
      "source": [
        "GRID.fit(X_new,y_new)"
      ]
    },
    {
      "cell_type": "code",
      "execution_count": null,
      "metadata": {
        "colab": {
          "base_uri": "https://localhost:8080/"
        },
        "id": "cEhGlyblLvij",
        "outputId": "9f7818f6-fc8b-4de7-9464-1107fd1b4bb4"
      },
      "outputs": [],
      "source": [
        "GRID.best_score_"
      ]
    },
    {
      "cell_type": "code",
      "execution_count": null,
      "metadata": {
        "colab": {
          "base_uri": "https://localhost:8080/"
        },
        "id": "2_3TQnNRkEZo",
        "outputId": "bd6895d2-3cd3-47e0-d092-2a0f9eafd7c3"
      },
      "outputs": [],
      "source": [
        "GRID.best_params_"
      ]
    },
    {
      "cell_type": "code",
      "execution_count": null,
      "metadata": {
        "id": "vvzAmM97kJAm"
      },
      "outputs": [],
      "source": [
        "LGBM=LGBMClassifier(boosting_type= 'dart',\n",
        " importance_type= 'split',\n",
        " learning_rate= 0.1,\n",
        " n_estimators= 500)"
      ]
    },
    {
      "cell_type": "markdown",
      "metadata": {
        "id": "2DMKIZxnopOa"
      },
      "source": [
        "#Final Model Cross Val Score"
      ]
    },
    {
      "cell_type": "code",
      "execution_count": null,
      "metadata": {
        "colab": {
          "base_uri": "https://localhost:8080/"
        },
        "id": "75nU4xrnlhaz",
        "outputId": "8db9decb-a333-43e1-ed13-7f68e98a182b"
      },
      "outputs": [],
      "source": [
        "new_csv=cross_val_score(LGBM,X_new,y_new,cv=skf).mean()\n",
        "new_csv"
      ]
    },
    {
      "cell_type": "code",
      "execution_count": null,
      "metadata": {
        "colab": {
          "base_uri": "https://localhost:8080/"
        },
        "id": "maEaLjP4kZza",
        "outputId": "40cc39fa-4552-4d6e-803d-86b44c1af448"
      },
      "outputs": [],
      "source": [
        "LGBM.fit(X_train,y_train)\n",
        "y_p=LGBM.predict(X_test)\n",
        "print(accuracy_score(y_test,y_p))"
      ]
    },
    {
      "cell_type": "markdown",
      "metadata": {
        "id": "xb3gByc0MT47"
      },
      "source": [
        "**Cross_val_score increased by 91.3 to 91.47**"
      ]
    },
    {
      "cell_type": "markdown",
      "metadata": {
        "id": "Yf58Davfum0T"
      },
      "source": [
        "#Final Model Roc_Auc Curve"
      ]
    },
    {
      "cell_type": "code",
      "execution_count": null,
      "metadata": {
        "colab": {
          "base_uri": "https://localhost:8080/",
          "height": 828
        },
        "id": "c8w7NAueujXK",
        "outputId": "398f5998-29e1-4c76-8de3-a2506493ce77"
      },
      "outputs": [],
      "source": [
        "print(\"ROC AUC CURVE\")\n",
        "plt.figure(figsize=(12,8))\n",
        "roc_auc(LGBM,X_train,y_train,X_test=X_test,y_test=y_test,classes=['<=50k','>50k'],micro=False,macro=False)\n",
        "print(\"MODEL LEARNING CURVE\")\n",
        "skplt.estimators.plot_learning_curve(LGBM,X_new,y_new,cv=skf,scoring='accuracy',text_fontsize='large',title=name)\n",
        "plt.show()"
      ]
    },
    {
      "cell_type": "markdown",
      "metadata": {
        "id": "5-eJCULrot2E"
      },
      "source": [
        "#Final Model Matrix"
      ]
    },
    {
      "cell_type": "code",
      "execution_count": null,
      "metadata": {
        "colab": {
          "base_uri": "https://localhost:8080/"
        },
        "id": "2YyzMs90kn9o",
        "outputId": "f74b77ae-1a88-4933-89ed-87d9c6fbd907"
      },
      "outputs": [],
      "source": [
        "print(\"Confusion matrics\")\n",
        "print('\\n')\n",
        "print(confusion_matrix(y_test,y_p))\n",
        "print(\"Classifiaction_report\")\n",
        "print('\\n')\n",
        "print(classification_report(y_test,y_p))\n",
        "print(\"Accuracy Score\",accuracy_score(y_test,y_p))"
      ]
    },
    {
      "cell_type": "code",
      "execution_count": null,
      "metadata": {
        "colab": {
          "base_uri": "https://localhost:8080/"
        },
        "id": "wsd0OWTtowna",
        "outputId": "d3b90469-84fe-4d9d-9a5d-cb29f98c4f3f"
      },
      "outputs": [],
      "source": [
        "import joblib\n",
        "joblib.dump(GRID,\"CensusClassifier.obj\")"
      ]
    },
    {
      "cell_type": "code",
      "execution_count": null,
      "metadata": {
        "id": "jd88np5qsVWs"
      },
      "outputs": [],
      "source": [
        "model=joblib.load('CensusClassifier.obj')"
      ]
    },
    {
      "cell_type": "code",
      "execution_count": null,
      "metadata": {
        "colab": {
          "base_uri": "https://localhost:8080/"
        },
        "id": "m8LM-6bGKcvy",
        "outputId": "872cfea3-0640-4764-ad99-dd6a0eaedf11"
      },
      "outputs": [],
      "source": [
        "model.predict(X_test)"
      ]
    },
    {
      "cell_type": "markdown",
      "metadata": {
        "id": "zJtTKpV8KklI"
      },
      "source": [
        "#Conclusion\n",
        "In this data i have to predict the income of peoples where the income is <50k or greater then 50k so\n",
        "\n",
        "i did eda to understand the effect of features on target \n",
        "\n",
        "The data was imbalanced so i used the balancing technique to balance the data i did up sampling\n",
        "\n",
        "there was lot of outliers so i used the percentile method to replace outliers because i dont want to loose data \n",
        "\n",
        "and i build many model but lighgbm was giving me good matrixs so i did hyperparameter tuning of that\n",
        "\n",
        "at the end i was getting 91.3% accuracy and i saved the model"
      ]
    }
  ],
  "metadata": {
    "colab": {
      "name": "Census Income Project_f1.ipynb",
      "provenance": []
    },
    "kernelspec": {
      "display_name": "Python 3.9.8 64-bit",
      "language": "python",
      "name": "python3"
    },
    "language_info": {
      "codemirror_mode": {
        "name": "ipython",
        "version": 3
      },
      "file_extension": ".py",
      "mimetype": "text/x-python",
      "name": "python",
      "nbconvert_exporter": "python",
      "pygments_lexer": "ipython3",
      "version": "3.9.8"
    },
    "vscode": {
      "interpreter": {
        "hash": "aee8b7b246df8f9039afb4144a1f6fd8d2ca17a180786b69acc140d282b71a49"
      }
    }
  },
  "nbformat": 4,
  "nbformat_minor": 0
}
